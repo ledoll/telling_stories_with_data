{
 "cells": [
  {
   "cell_type": "code",
   "execution_count": 13,
   "metadata": {},
   "outputs": [
    {
     "name": "stdout",
     "output_type": "stream",
     "text": [
      "Populating the interactive namespace from numpy and matplotlib\n"
     ]
    }
   ],
   "source": [
    "#hw1\n",
    "#Lauren Doll\n",
    "\n",
    "import pandas as pd\n",
    "import numpy as np\n",
    "\n",
    "import matplotlib\n",
    "%pylab inline\n"
   ]
  },
  {
   "cell_type": "code",
   "execution_count": 11,
   "metadata": {},
   "outputs": [
    {
     "data": {
      "text/html": [
       "<div>\n",
       "<style scoped>\n",
       "    .dataframe tbody tr th:only-of-type {\n",
       "        vertical-align: middle;\n",
       "    }\n",
       "\n",
       "    .dataframe tbody tr th {\n",
       "        vertical-align: top;\n",
       "    }\n",
       "\n",
       "    .dataframe thead th {\n",
       "        text-align: right;\n",
       "    }\n",
       "</style>\n",
       "<table border=\"1\" class=\"dataframe\">\n",
       "  <thead>\n",
       "    <tr style=\"text-align: right;\">\n",
       "      <th></th>\n",
       "      <th>Unnamed: 0</th>\n",
       "      <th>x</th>\n",
       "      <th>y</th>\n",
       "    </tr>\n",
       "  </thead>\n",
       "  <tbody>\n",
       "    <tr>\n",
       "      <th>0</th>\n",
       "      <td>0</td>\n",
       "      <td>0.969386</td>\n",
       "      <td>0.050518</td>\n",
       "    </tr>\n",
       "    <tr>\n",
       "      <th>1</th>\n",
       "      <td>1</td>\n",
       "      <td>0.543107</td>\n",
       "      <td>0.795078</td>\n",
       "    </tr>\n",
       "    <tr>\n",
       "      <th>2</th>\n",
       "      <td>2</td>\n",
       "      <td>0.563839</td>\n",
       "      <td>0.266660</td>\n",
       "    </tr>\n",
       "    <tr>\n",
       "      <th>3</th>\n",
       "      <td>3</td>\n",
       "      <td>0.158021</td>\n",
       "      <td>0.596197</td>\n",
       "    </tr>\n",
       "    <tr>\n",
       "      <th>4</th>\n",
       "      <td>4</td>\n",
       "      <td>0.160360</td>\n",
       "      <td>0.574742</td>\n",
       "    </tr>\n",
       "  </tbody>\n",
       "</table>\n",
       "</div>"
      ],
      "text/plain": [
       "   Unnamed: 0         x         y\n",
       "0           0  0.969386  0.050518\n",
       "1           1  0.543107  0.795078\n",
       "2           2  0.563839  0.266660\n",
       "3           3  0.158021  0.596197\n",
       "4           4  0.160360  0.574742"
      ]
     },
     "execution_count": 11,
     "metadata": {},
     "output_type": "execute_result"
    }
   ],
   "source": [
    "url=r'https://raw.githubusercontent.com/ledoll/telling_stories_with_data/master/assignments/data/hw1_test_data.csv'\n",
    "df = pd.read_csv(url, sep=',')\n",
    "df.head()"
   ]
  },
  {
   "cell_type": "code",
   "execution_count": 16,
   "metadata": {},
   "outputs": [
    {
     "data": {
      "text/plain": [
       "Text(0,0.5,'y')"
      ]
     },
     "execution_count": 16,
     "metadata": {},
     "output_type": "execute_result"
    },
    {
     "data": {
      "image/png": "[encoded data removed]",
      "text/plain": [
       "<matplotlib.figure.Figure at 0x7f7e49d6fc18>"
      ]
     },
     "metadata": {},
     "output_type": "display_data"
    }
   ],
   "source": [
    "n = 4\n",
    "x = np.random.normal(size=n)\n",
    "y = np.random.normal(size=n)\n",
    "\n",
    "fig, ax = plt.subplots(figsize=(12,8))\n",
    "\n",
    "ax.scatter(x, y, c='r', lw=0, alpha=.7)\n",
    "\n",
    "ax.set_title('Q1')\n",
    "ax.set_xlabel('x')\n",
    "ax.set_ylabel('y')"
   ]
  },
  {
   "cell_type": "code",
   "execution_count": null,
   "metadata": {},
   "outputs": [],
   "source": []
  },
  {
   "cell_type": "code",
   "execution_count": 1,
   "metadata": {},
   "outputs": [
    {
     "name": "stdout",
     "output_type": "stream",
     "text": [
      "Populating the interactive namespace from numpy and matplotlib\n"
     ]
    }
   ],
   "source": [
    "import numpy as np\n",
    "import pandas as pd\n",
    "%pylab inline\n"
   ]
  },
  {
   "cell_type": "code",
   "execution_count": 5,
   "metadata": {},
   "outputs": [
    {
     "data": {
      "text/plain": [
       "array([-0.13244541, -0.2398528 ,  0.71041841,  1.95595763,  0.86147155,\n",
       "        0.90108535,  1.45120642, -1.61917408,  1.16547971, -0.21915922])"
      ]
     },
     "execution_count": 5,
     "metadata": {},
     "output_type": "execute_result"
    }
   ],
   "source": [
    "np.random.normal(size=10)"
   ]
  },
  {
   "cell_type": "code",
   "execution_count": 6,
   "metadata": {},
   "outputs": [
    {
     "data": {
      "text/plain": [
       "Text(0,0.5,'y')"
      ]
     },
     "execution_count": 6,
     "metadata": {},
     "output_type": "execute_result"
    },
    {
     "data": {
      "image/png": "[encoded data removed]",
      "text/plain": [
       "<matplotlib.figure.Figure at 0x7f8793a51860>"
      ]
     },
     "metadata": {},
     "output_type": "display_data"
    }
   ],
   "source": [
    "n = 100\n",
    "x = np.random.normal(size=n)\n",
    "y = np.random.normal(size=n)\n",
    "\n",
    "fig, ax = plt.subplots(figsize=(12,8))\n",
    "\n",
    "ax.scatter(x, y, c='r', lw=0, alpha=.7)\n",
    "\n",
    "ax.set_title('Scatter Normal Data')\n",
    "ax.set_xlabel('x')\n",
    "ax.set_ylabel('y')"
   ]
  },
  {
   "cell_type": "code",
   "execution_count": 11,
   "metadata": {},
   "outputs": [
    {
     "data": {
      "text/plain": [
       "array(['thailand', 'thailand', 'thailand', 'thailand', 'myanmar', 'laos',\n",
       "       'thailand', 'cambodia', 'thailand', 'laos', 'cambodia', 'cambodia',\n",
       "       'laos', 'laos', 'myanmar', 'thailand', 'myanmar', 'cambodia',\n",
       "       'laos', 'cambodia', 'cambodia', 'thailand', 'cambodia', 'cambodia',\n",
       "       'thailand', 'thailand', 'cambodia', 'thailand', 'thailand',\n",
       "       'cambodia', 'thailand', 'thailand', 'cambodia', 'thailand', 'laos',\n",
       "       'cambodia', 'thailand', 'thailand', 'cambodia', 'myanmar',\n",
       "       'thailand', 'cambodia', 'cambodia', 'cambodia', 'cambodia',\n",
       "       'myanmar', 'laos', 'thailand', 'laos', 'laos', 'laos', 'myanmar',\n",
       "       'cambodia', 'cambodia', 'thailand', 'cambodia', 'cambodia',\n",
       "       'thailand', 'thailand', 'thailand', 'thailand', 'thailand',\n",
       "       'thailand', 'cambodia', 'thailand', 'laos', 'thailand', 'thailand',\n",
       "       'laos', 'cambodia', 'thailand', 'thailand', 'thailand', 'thailand',\n",
       "       'laos', 'thailand', 'cambodia', 'thailand', 'thailand', 'laos',\n",
       "       'cambodia', 'thailand', 'thailand', 'thailand', 'cambodia', 'laos',\n",
       "       'cambodia', 'thailand', 'laos', 'thailand', 'myanmar', 'thailand',\n",
       "       'laos', 'thailand', 'laos', 'thailand', 'thailand', 'thailand',\n",
       "       'myanmar', 'thailand'], dtype='<U8')"
      ]
     },
     "execution_count": 11,
     "metadata": {},
     "output_type": "execute_result"
    }
   ],
   "source": [
    "countries = ['thailand', 'myanmar', 'cambodia', 'laos']\n",
    "\n",
    "country_probs = [0.4, 0.1, 0.3, 0.2]\n",
    "\n",
    "country_draws = np.random.choice(countries, size=100, p=country_probs)\n",
    "\n",
    "country_draws"
   ]
  },
  {
   "cell_type": "code",
   "execution_count": 14,
   "metadata": {},
   "outputs": [
    {
     "data": {
      "image/png": "[encoded data removed]",
      "text/plain": [
       "<matplotlib.figure.Figure at 0x7f8793a15358>"
      ]
     },
     "metadata": {},
     "output_type": "display_data"
    }
   ],
   "source": [
    "fig, ax = plt.subplots(figsize=(12,8))\n",
    "\n",
    "pd.Series(country_draws).value_counts().plot(kind='bar', ax=ax, color='r')\n",
    "\n",
    "ax.set_title('Distribution of Countries')\n",
    "ax.set_xlabel('Country')\n",
    "ax.set_label('Frequency')"
   ]
  },
  {
   "cell_type": "code",
   "execution_count": null,
   "metadata": {},
   "outputs": [],
   "source": []
  },
  {
   "cell_type": "code",
   "execution_count": 2,
   "metadata": {},
   "outputs": [
    {
     "name": "stdout",
     "output_type": "stream",
     "text": [
      "<iframe src=https://api.bls.gov/publicAPI/v1/timeseries/data/CFU0000008000 width=1000 height=100></iframe>\n"
     ]
    },
    {
     "data": {
      "text/html": [
       "<iframe src=https://api.bls.gov/publicAPI/v1/timeseries/data/CFU0000008000 width=1000 height=100></iframe>"
      ],
      "text/plain": [
       "<IPython.core.display.HTML object>"
      ]
     },
     "execution_count": 2,
     "metadata": {},
     "output_type": "execute_result"
    }
   ],
   "source": [
    "from IPython.display import HTML\n",
    "\n",
    "import getpass\n",
    "\n",
    "import requests\n",
    "\n",
    "import json\n",
    "import numpy as np\n",
    "import pandas as pd\n",
    "\n",
    "import bokeh.plotting as bp\n",
    "\n",
    "def show_iframe(url, height=400, width=1000):\n",
    "    display_string = '<iframe src={url} width={w} height={h}></iframe>'.format(url=url, w=width, h=height)\n",
    "    print(display_string)\n",
    "    return HTML(display_string)\n",
    "\n",
    "show_iframe('https://api.bls.gov/publicAPI/v1/timeseries/data/CFU0000008000', height=100)"
   ]
  },
  {
   "cell_type": "code",
   "execution_count": 3,
   "metadata": {},
   "outputs": [
    {
     "name": "stdout",
     "output_type": "stream",
     "text": [
      "<iframe src=https:/www.data.bls.gov/registrationEngine/ width=1000 height=400></iframe>\n"
     ]
    },
    {
     "data": {
      "text/html": [
       "<iframe src=https:/www.data.bls.gov/registrationEngine/ width=1000 height=400></iframe>"
      ],
      "text/plain": [
       "<IPython.core.display.HTML object>"
      ]
     },
     "execution_count": 3,
     "metadata": {},
     "output_type": "execute_result"
    }
   ],
   "source": [
    "show_iframe('https:/www.data.bls.gov/registrationEngine/')"
   ]
  },
  {
   "cell_type": "code",
   "execution_count": null,
   "metadata": {},
   "outputs": [],
   "source": []
  }
 ],
 "metadata": {
  "kernelspec": {
   "display_name": "Python 3",
   "language": "python",
   "name": "python3"
  },
  "language_info": {
   "codemirror_mode": {
    "name": "ipython",
    "version": 3
   },
   "file_extension": ".py",
   "mimetype": "text/x-python",
   "name": "python",
   "nbconvert_exporter": "python",
   "pygments_lexer": "ipython3",
   "version": "3.6.3"
  }
 },
 "nbformat": 4,
 "nbformat_minor": 2
}
