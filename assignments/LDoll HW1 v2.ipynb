{
 "cells": [
  {
   "cell_type": "code",
   "execution_count": 13,
   "metadata": {},
   "outputs": [
    {
     "name": "stdout",
     "output_type": "stream",
     "text": [
      "Populating the interactive namespace from numpy and matplotlib\n"
     ]
    }
   ],
   "source": [
    "#hw1\n",
    "#Lauren Doll\n",
    "\n",
    "#Question 1\n",
    "\n",
    "import pandas as pd\n",
    "import numpy as np\n",
    "\n",
    "import matplotlib\n",
    "%pylab inline\n"
   ]
  },
  {
   "cell_type": "code",
   "execution_count": 29,
   "metadata": {},
   "outputs": [
    {
     "data": {
      "text/html": [
       "<div>\n",
       "<style scoped>\n",
       "    .dataframe tbody tr th:only-of-type {\n",
       "        vertical-align: middle;\n",
       "    }\n",
       "\n",
       "    .dataframe tbody tr th {\n",
       "        vertical-align: top;\n",
       "    }\n",
       "\n",
       "    .dataframe thead th {\n",
       "        text-align: right;\n",
       "    }\n",
       "</style>\n",
       "<table border=\"1\" class=\"dataframe\">\n",
       "  <thead>\n",
       "    <tr style=\"text-align: right;\">\n",
       "      <th></th>\n",
       "      <th>Unnamed: 0</th>\n",
       "      <th>x</th>\n",
       "      <th>y</th>\n",
       "    </tr>\n",
       "  </thead>\n",
       "  <tbody>\n",
       "    <tr>\n",
       "      <th>0</th>\n",
       "      <td>0</td>\n",
       "      <td>0.969386</td>\n",
       "      <td>0.050518</td>\n",
       "    </tr>\n",
       "    <tr>\n",
       "      <th>1</th>\n",
       "      <td>1</td>\n",
       "      <td>0.543107</td>\n",
       "      <td>0.795078</td>\n",
       "    </tr>\n",
       "    <tr>\n",
       "      <th>2</th>\n",
       "      <td>2</td>\n",
       "      <td>0.563839</td>\n",
       "      <td>0.266660</td>\n",
       "    </tr>\n",
       "    <tr>\n",
       "      <th>3</th>\n",
       "      <td>3</td>\n",
       "      <td>0.158021</td>\n",
       "      <td>0.596197</td>\n",
       "    </tr>\n",
       "    <tr>\n",
       "      <th>4</th>\n",
       "      <td>4</td>\n",
       "      <td>0.160360</td>\n",
       "      <td>0.574742</td>\n",
       "    </tr>\n",
       "  </tbody>\n",
       "</table>\n",
       "</div>"
      ],
      "text/plain": [
       "   Unnamed: 0         x         y\n",
       "0           0  0.969386  0.050518\n",
       "1           1  0.543107  0.795078\n",
       "2           2  0.563839  0.266660\n",
       "3           3  0.158021  0.596197\n",
       "4           4  0.160360  0.574742"
      ]
     },
     "execution_count": 29,
     "metadata": {},
     "output_type": "execute_result"
    }
   ],
   "source": [
    "url= r'https://raw.githubusercontent.com/ledoll/telling_stories_with_data/master/assignments/data/hw1_test_data.csv'\n",
    "df = pd.read_csv(url, sep=',')\n",
    "df.head()"
   ]
  },
  {
   "cell_type": "code",
   "execution_count": 41,
   "metadata": {},
   "outputs": [
    {
     "data": {
      "text/plain": [
       "<matplotlib.axes._subplots.AxesSubplot at 0x7f4d29bea6d8>"
      ]
     },
     "execution_count": 41,
     "metadata": {},
     "output_type": "execute_result"
    },
    {
     "data": {
      "image/png": "[encoded data removed]",
      "text/plain": [
       "<matplotlib.figure.Figure at 0x7f4d29b722b0>"
      ]
     },
     "metadata": {},
     "output_type": "display_data"
    }
   ],
   "source": [
    "url= r'https://raw.githubusercontent.com/ledoll/telling_stories_with_data/master/assignments/data/hw1_test_data.csv'\n",
    "data = pd.read_csv(url, sep=',')\n",
    "df.plot(kind='scatter', x='x', y='y')"
   ]
  },
  {
   "cell_type": "code",
   "execution_count": 1,
   "metadata": {},
   "outputs": [
    {
     "name": "stdout",
     "output_type": "stream",
     "text": [
      "Populating the interactive namespace from numpy and matplotlib\n"
     ]
    }
   ],
   "source": [
    "#Question Two - Simulating\n",
    "import numpy as np\n",
    "import pandas as pd\n",
    "%pylab inline\n"
   ]
  },
  {
   "cell_type": "code",
   "execution_count": 5,
   "metadata": {},
   "outputs": [
    {
     "data": {
      "text/plain": [
       "array([-0.13244541, -0.2398528 ,  0.71041841,  1.95595763,  0.86147155,\n",
       "        0.90108535,  1.45120642, -1.61917408,  1.16547971, -0.21915922])"
      ]
     },
     "execution_count": 5,
     "metadata": {},
     "output_type": "execute_result"
    }
   ],
   "source": [
    "np.random.normal(size=10)"
   ]
  },
  {
   "cell_type": "code",
   "execution_count": 6,
   "metadata": {},
   "outputs": [
    {
     "data": {
      "text/plain": [
       "Text(0,0.5,'y')"
      ]
     },
     "execution_count": 6,
     "metadata": {},
     "output_type": "execute_result"
    },
    {
     "data": {
      "image/png": "[encoded data removed]",
      "text/plain": [
       "<matplotlib.figure.Figure at 0x7f8793a51860>"
      ]
     },
     "metadata": {},
     "output_type": "display_data"
    }
   ],
   "source": [
    "n = 100\n",
    "x = np.random.normal(size=n)\n",
    "y = np.random.normal(size=n)\n",
    "\n",
    "fig, ax = plt.subplots(figsize=(12,8))\n",
    "\n",
    "ax.scatter(x, y, c='r', lw=0, alpha=.7)\n",
    "\n",
    "ax.set_title('Scatter Normal Data')\n",
    "ax.set_xlabel('x')\n",
    "ax.set_ylabel('y')"
   ]
  },
  {
   "cell_type": "code",
   "execution_count": 11,
   "metadata": {},
   "outputs": [
    {
     "data": {
      "text/plain": [
       "array(['thailand', 'thailand', 'thailand', 'thailand', 'myanmar', 'laos',\n",
       "       'thailand', 'cambodia', 'thailand', 'laos', 'cambodia', 'cambodia',\n",
       "       'laos', 'laos', 'myanmar', 'thailand', 'myanmar', 'cambodia',\n",
       "       'laos', 'cambodia', 'cambodia', 'thailand', 'cambodia', 'cambodia',\n",
       "       'thailand', 'thailand', 'cambodia', 'thailand', 'thailand',\n",
       "       'cambodia', 'thailand', 'thailand', 'cambodia', 'thailand', 'laos',\n",
       "       'cambodia', 'thailand', 'thailand', 'cambodia', 'myanmar',\n",
       "       'thailand', 'cambodia', 'cambodia', 'cambodia', 'cambodia',\n",
       "       'myanmar', 'laos', 'thailand', 'laos', 'laos', 'laos', 'myanmar',\n",
       "       'cambodia', 'cambodia', 'thailand', 'cambodia', 'cambodia',\n",
       "       'thailand', 'thailand', 'thailand', 'thailand', 'thailand',\n",
       "       'thailand', 'cambodia', 'thailand', 'laos', 'thailand', 'thailand',\n",
       "       'laos', 'cambodia', 'thailand', 'thailand', 'thailand', 'thailand',\n",
       "       'laos', 'thailand', 'cambodia', 'thailand', 'thailand', 'laos',\n",
       "       'cambodia', 'thailand', 'thailand', 'thailand', 'cambodia', 'laos',\n",
       "       'cambodia', 'thailand', 'laos', 'thailand', 'myanmar', 'thailand',\n",
       "       'laos', 'thailand', 'laos', 'thailand', 'thailand', 'thailand',\n",
       "       'myanmar', 'thailand'], dtype='<U8')"
      ]
     },
     "execution_count": 11,
     "metadata": {},
     "output_type": "execute_result"
    }
   ],
   "source": [
    "countries = ['thailand', 'myanmar', 'cambodia', 'laos']\n",
    "\n",
    "country_probs = [0.4, 0.1, 0.3, 0.2]\n",
    "\n",
    "country_draws = np.random.choice(countries, size=100, p=country_probs)\n",
    "\n",
    "country_draws"
   ]
  },
  {
   "cell_type": "code",
   "execution_count": 14,
   "metadata": {},
   "outputs": [
    {
     "data": {
      "image/png": "[encoded data removed]",
      "text/plain": [
       "<matplotlib.figure.Figure at 0x7f8793a15358>"
      ]
     },
     "metadata": {},
     "output_type": "display_data"
    }
   ],
   "source": [
    "fig, ax = plt.subplots(figsize=(12,8))\n",
    "\n",
    "pd.Series(country_draws).value_counts().plot(kind='bar', ax=ax, color='r')\n",
    "\n",
    "ax.set_title('Distribution of Countries')\n",
    "ax.set_xlabel('Country')\n",
    "ax.set_label('Frequency')"
   ]
  },
  {
   "cell_type": "code",
   "execution_count": null,
   "metadata": {},
   "outputs": [],
   "source": []
  },
  {
   "cell_type": "code",
   "execution_count": 1,
   "metadata": {},
   "outputs": [
    {
     "name": "stdout",
     "output_type": "stream",
     "text": [
      "<iframe src=https://api.bls.gov/publicAPI/v1/timeseries/data/CFU0000008000 width=1000 height=100></iframe>\n"
     ]
    },
    {
     "data": {
      "text/html": [
       "<iframe src=https://api.bls.gov/publicAPI/v1/timeseries/data/CFU0000008000 width=1000 height=100></iframe>"
      ],
      "text/plain": [
       "<IPython.core.display.HTML object>"
      ]
     },
     "execution_count": 1,
     "metadata": {},
     "output_type": "execute_result"
    }
   ],
   "source": [
    "#Question 3\n",
    "\n",
    "from IPython.display import HTML\n",
    "\n",
    "import getpass\n",
    "\n",
    "import requests\n",
    "\n",
    "import json\n",
    "import numpy as np\n",
    "import pandas as pd\n",
    "\n",
    "import bokeh.plotting as bp\n",
    "\n",
    "def show_iframe(url, height=400, width=1000):\n",
    "    display_string = '<iframe src={url} width={w} height={h}></iframe>'.format(url=url, w=width, h=height)\n",
    "    print(display_string)\n",
    "    return HTML(display_string)\n",
    "\n",
    "show_iframe('https://api.bls.gov/publicAPI/v1/timeseries/data/CFU0000008000', height=100)"
   ]
  },
  {
   "cell_type": "code",
   "execution_count": 2,
   "metadata": {},
   "outputs": [
    {
     "name": "stdout",
     "output_type": "stream",
     "text": [
      "<iframe src=https://data.bls.gov/registrationEngine/ width=1000 height=400></iframe>\n"
     ]
    },
    {
     "data": {
      "text/html": [
       "<iframe src=https://data.bls.gov/registrationEngine/ width=1000 height=400></iframe>"
      ],
      "text/plain": [
       "<IPython.core.display.HTML object>"
      ]
     },
     "execution_count": 2,
     "metadata": {},
     "output_type": "execute_result"
    }
   ],
   "source": [
    "show_iframe('https://data.bls.gov/registrationEngine/')"
   ]
  },
  {
   "cell_type": "code",
   "execution_count": 4,
   "metadata": {},
   "outputs": [],
   "source": [
    "reg_key = getpass.getpass('Enter Registration Key: ')"
   ]
  },
  {
   "cell_type": "code",
   "execution_count": 5,
   "metadata": {},
   "outputs": [
    {
     "name": "stdout",
     "output_type": "stream",
     "text": [
      "<iframe src=https://www.bls.gov/help/hlpforma.htm#CX width=1000 height=400></iframe>\n"
     ]
    },
    {
     "data": {
      "text/html": [
       "<iframe src=https://www.bls.gov/help/hlpforma.htm#CX width=1000 height=400></iframe>"
      ],
      "text/plain": [
       "<IPython.core.display.HTML object>"
      ]
     },
     "execution_count": 5,
     "metadata": {},
     "output_type": "execute_result"
    }
   ],
   "source": [
    "show_iframe('https://www.bls.gov/help/hlpforma.htm#CX', height=400)"
   ]
  },
  {
   "cell_type": "code",
   "execution_count": 6,
   "metadata": {},
   "outputs": [
    {
     "data": {
      "text/plain": [
       "'c_1'"
      ]
     },
     "execution_count": 6,
     "metadata": {},
     "output_type": "execute_result"
    }
   ],
   "source": [
    "'{a}_{b}'.format(a='c', b=1)"
   ]
  },
  {
   "cell_type": "code",
   "execution_count": 7,
   "metadata": {},
   "outputs": [
    {
     "data": {
      "text/plain": [
       "{'Results': {'series': [{'data': [{'footnotes': [{}],\n",
       "      'period': 'A01',\n",
       "      'periodName': 'Annual',\n",
       "      'value': '2156',\n",
       "      'year': '2016'},\n",
       "     {'footnotes': [{}],\n",
       "      'period': 'A01',\n",
       "      'periodName': 'Annual',\n",
       "      'value': '1930',\n",
       "      'year': '2015'},\n",
       "     {'footnotes': [{}],\n",
       "      'period': 'A01',\n",
       "      'periodName': 'Annual',\n",
       "      'value': '1868',\n",
       "      'year': '2014'},\n",
       "     {'footnotes': [{}],\n",
       "      'period': 'A01',\n",
       "      'periodName': 'Annual',\n",
       "      'value': '1790',\n",
       "      'year': '2013'},\n",
       "     {'footnotes': [{}],\n",
       "      'period': 'A01',\n",
       "      'periodName': 'Annual',\n",
       "      'value': '1677',\n",
       "      'year': '2012'}],\n",
       "    'seriesID': 'CXUHEALTHLB0102M'}]},\n",
       " 'message': [],\n",
       " 'responseTime': 52,\n",
       " 'status': 'REQUEST_SUCCEEDED'}"
      ]
     },
     "execution_count": 7,
     "metadata": {},
     "output_type": "execute_result"
    }
   ],
   "source": [
    "series = 'CXUHEALTHLB0102M'\n",
    "\n",
    "def capture_request(series, start, end, key=reg_key):\n",
    "    # Define base URL (for v2)\n",
    "    url = 'https://api.bls.gov/publicAPI/v2/timeseries/data/'\n",
    "    # Concatenate registration key\n",
    "    url += '?registrationkey={key}'.format(key=key)\n",
    "    # Cast data request as JSON\n",
    "    data = json.dumps({\n",
    "        \"seriesid\": [series],\n",
    "        \"startyear\": str(start),\n",
    "        \"endyear\": str(end)\n",
    "    })\n",
    "    # Capture content type of request\n",
    "    headers = {\n",
    "        \"Content-type\": \"application/json\"\n",
    "    }\n",
    "    # Request data\n",
    "    result = requests.post(url, data=data, headers=headers)\n",
    "    return json.loads(result.text)\n",
    "\n",
    "json_data = capture_request(series, 2012, 2016)\n",
    "\n",
    "json_data"
   ]
  },
  {
   "cell_type": "code",
   "execution_count": 8,
   "metadata": {},
   "outputs": [
    {
     "name": "stdout",
     "output_type": "stream",
     "text": [
      "  footnotes period periodName value  year\n",
      "0      [{}]    A01     Annual  2156  2016\n",
      "1      [{}]    A01     Annual  1930  2015\n",
      "2      [{}]    A01     Annual  1868  2014\n",
      "3      [{}]    A01     Annual  1790  2013\n",
      "4      [{}]    A01     Annual  1677  2012\n"
     ]
    },
    {
     "data": {
      "text/html": [
       "<div>\n",
       "<style scoped>\n",
       "    .dataframe tbody tr th:only-of-type {\n",
       "        vertical-align: middle;\n",
       "    }\n",
       "\n",
       "    .dataframe tbody tr th {\n",
       "        vertical-align: top;\n",
       "    }\n",
       "\n",
       "    .dataframe thead th {\n",
       "        text-align: right;\n",
       "    }\n",
       "</style>\n",
       "<table border=\"1\" class=\"dataframe\">\n",
       "  <thead>\n",
       "    <tr style=\"text-align: right;\">\n",
       "      <th></th>\n",
       "      <th>value</th>\n",
       "    </tr>\n",
       "    <tr>\n",
       "      <th>year</th>\n",
       "      <th></th>\n",
       "    </tr>\n",
       "  </thead>\n",
       "  <tbody>\n",
       "    <tr>\n",
       "      <th>2012</th>\n",
       "      <td>1677</td>\n",
       "    </tr>\n",
       "    <tr>\n",
       "      <th>2013</th>\n",
       "      <td>1790</td>\n",
       "    </tr>\n",
       "    <tr>\n",
       "      <th>2014</th>\n",
       "      <td>1868</td>\n",
       "    </tr>\n",
       "    <tr>\n",
       "      <th>2015</th>\n",
       "      <td>1930</td>\n",
       "    </tr>\n",
       "    <tr>\n",
       "      <th>2016</th>\n",
       "      <td>2156</td>\n",
       "    </tr>\n",
       "  </tbody>\n",
       "</table>\n",
       "</div>"
      ],
      "text/plain": [
       "      value\n",
       "year       \n",
       "2012   1677\n",
       "2013   1790\n",
       "2014   1868\n",
       "2015   1930\n",
       "2016   2156"
      ]
     },
     "execution_count": 8,
     "metadata": {},
     "output_type": "execute_result"
    }
   ],
   "source": [
    "# Convert to DF\n",
    "df_data = pd.DataFrame(json_data['Results']['series'][0]['data'])\n",
    "print(df_data)\n",
    "\n",
    "# Retain only the values and years (convert both values to int)\n",
    "df_sub = df_data[['year', 'value']].astype(int)\n",
    "\n",
    "# Set year to index\n",
    "df_sub.set_index('year', inplace=True)\n",
    "\n",
    "# Sort index\n",
    "df_sub.sort_index(inplace=True)\n",
    "\n",
    "df_sub\n",
    "\n"
   ]
  },
  {
   "cell_type": "code",
   "execution_count": 9,
   "metadata": {},
   "outputs": [
    {
     "data": {
      "text/html": [
       "<div>\n",
       "<style scoped>\n",
       "    .dataframe tbody tr th:only-of-type {\n",
       "        vertical-align: middle;\n",
       "    }\n",
       "\n",
       "    .dataframe tbody tr th {\n",
       "        vertical-align: top;\n",
       "    }\n",
       "\n",
       "    .dataframe thead th {\n",
       "        text-align: right;\n",
       "    }\n",
       "</style>\n",
       "<table border=\"1\" class=\"dataframe\">\n",
       "  <thead>\n",
       "    <tr style=\"text-align: right;\">\n",
       "      <th></th>\n",
       "      <th>value</th>\n",
       "    </tr>\n",
       "    <tr>\n",
       "      <th>year</th>\n",
       "      <th></th>\n",
       "    </tr>\n",
       "  </thead>\n",
       "  <tbody>\n",
       "    <tr>\n",
       "      <th>2014</th>\n",
       "      <td>1868</td>\n",
       "    </tr>\n",
       "    <tr>\n",
       "      <th>2015</th>\n",
       "      <td>1930</td>\n",
       "    </tr>\n",
       "  </tbody>\n",
       "</table>\n",
       "</div>"
      ],
      "text/plain": [
       "      value\n",
       "year       \n",
       "2014   1868\n",
       "2015   1930"
      ]
     },
     "execution_count": 9,
     "metadata": {},
     "output_type": "execute_result"
    }
   ],
   "source": [
    "df_sub.loc[2014:2015]"
   ]
  },
  {
   "cell_type": "code",
   "execution_count": 26,
   "metadata": {},
   "outputs": [
    {
     "name": "stdout",
     "output_type": "stream",
     "text": [
      "<iframe src=fig.html width=550 height=350></iframe>\n"
     ]
    },
    {
     "data": {
      "text/html": [
       "<iframe src=fig.html width=550 height=350></iframe>"
      ],
      "text/plain": [
       "<IPython.core.display.HTML object>"
      ]
     },
     "execution_count": 26,
     "metadata": {},
     "output_type": "execute_result"
    }
   ],
   "source": [
    "bp.output_file('fig.html')\n",
    "\n",
    "fig = bp.figure(plot_width=500, plot_height=300)\n",
    "\n",
    "fig.line(df_sub.index, df_sub['value'], line_width=3, color='#890d13')\n",
    "\n",
    "fig.title.text = \"Health Expenditures for Q1 Consumers Have Increased\"\n",
    "fig.xaxis.axis_label = \"Year\"\n",
    "fig.yaxis.axis_label = \"Health Expenditures\"\n",
    "\n",
    "bp.save(fig)\n",
    "\n",
    "show_iframe('fig.html', width=550, height=350)"
   ]
  },
  {
   "cell_type": "code",
   "execution_count": null,
   "metadata": {},
   "outputs": [],
   "source": []
  }
 ],
 "metadata": {
  "kernelspec": {
   "display_name": "Python 3",
   "language": "python",
   "name": "python3"
  },
  "language_info": {
   "codemirror_mode": {
    "name": "ipython",
    "version": 3
   },
   "file_extension": ".py",
   "mimetype": "text/x-python",
   "name": "python",
   "nbconvert_exporter": "python",
   "pygments_lexer": "ipython3",
   "version": "3.6.3"
  }
 },
 "nbformat": 4,
 "nbformat_minor": 2
}
